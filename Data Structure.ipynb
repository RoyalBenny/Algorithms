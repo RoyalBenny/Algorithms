{
 "cells": [
  {
   "cell_type": "markdown",
   "metadata": {},
   "source": [
    "\n",
    "## Queue\n"
   ]
  },
  {
   "cell_type": "code",
   "execution_count": 1,
   "metadata": {},
   "outputs": [
    {
     "data": {
      "text/plain": [
       "10"
      ]
     },
     "execution_count": 1,
     "metadata": {},
     "output_type": "execute_result"
    }
   ],
   "source": [
    "\n",
    "from queue import Queue\n",
    "\n",
    "qu = Queue(5) #size as argument\n",
    "qu.put(10)\n",
    "qu.put(7)\n",
    "qu.put(6)\n",
    "qu.put(11)\n",
    "qu.get()"
   ]
  },
  {
   "cell_type": "code",
   "execution_count": 2,
   "metadata": {},
   "outputs": [],
   "source": [
    "# maxsize – Number of items allowed in the queue.\n",
    "# empty() – Return True if the queue is empty, False otherwise.\n",
    "# full() – Return True if there are maxsize items in the queue. If the queue was initialized with maxsize=0 (the default), then full() never returns True.\n",
    "# get() – Remove and return an item from the queue. If queue is empty, wait until an item is available.\n",
    "# get_nowait() – Return an item if one is immediately available, else raise QueueEmpty.\n",
    "# put(item) – Put an item into the queue. If the queue is full, wait until a free slot is available before adding the item.\n",
    "# put_nowait(item) – Put an item into the queue without blocking.\n",
    "# qsize() – Return the number of items in the queue. If no free slot is immediately available, raise QueueFull."
   ]
  },
  {
   "cell_type": "markdown",
   "metadata": {},
   "source": [
    "\n",
    "\n",
    "\n",
    "## Stack\n"
   ]
  },
  {
   "cell_type": "code",
   "execution_count": 3,
   "metadata": {},
   "outputs": [
    {
     "data": {
      "text/plain": [
       "15"
      ]
     },
     "execution_count": 3,
     "metadata": {},
     "output_type": "execute_result"
    }
   ],
   "source": [
    "from queue import LifoQueue\n",
    "\n",
    "stack = LifoQueue(5) #size as argument\n",
    "stack.put(15)\n",
    "stack.get()"
   ]
  },
  {
   "cell_type": "markdown",
   "metadata": {},
   "source": [
    "## Hash Table \n"
   ]
  },
  {
   "cell_type": "code",
   "execution_count": 4,
   "metadata": {},
   "outputs": [
    {
     "name": "stdout",
     "output_type": "stream",
     "text": [
      "6\n"
     ]
    }
   ],
   "source": [
    "# in python hash table is dictnory\n",
    "hash_table = {'a':5,'b':6}\n",
    "print(hash_table['b'])"
   ]
  },
  {
   "cell_type": "markdown",
   "metadata": {},
   "source": [
    "## Single Linked List"
   ]
  },
  {
   "cell_type": "code",
   "execution_count": 5,
   "metadata": {},
   "outputs": [],
   "source": [
    "\n",
    "\n",
    "class Node: \n",
    "    def __init__(self,value = None):\n",
    "        self.nxtnode = None\n",
    "        self.val = value\n",
    "\n",
    "class SLinkedList:\n",
    "    def __init__(self):\n",
    "        self.headval = None\n",
    "        \n",
    "    def bfs(self): #list traversal\n",
    "        printval = self.headval\n",
    "        while printval is not None:\n",
    "            print(printval.val)\n",
    "            printval = printval.nxtnode\n",
    "        \n",
    "    def create_linked_list(self,arr): #initally linkedlist must contain atleast one value\n",
    "        node = self.headval\n",
    "        while node.nxtnode is not None:\n",
    "            node = node.nxtnode\n",
    "        for i in arr:\n",
    "            node.nxtnode = Node(i)\n",
    "            node = node.nxtnode\n",
    "        \n",
    "list1 = SLinkedList()\n",
    "array = [4,5,6,7,8]\n",
    "list1.headval=Node(array.pop())\n",
    "list1.create_linked_list(array)"
   ]
  },
  {
   "cell_type": "code",
   "execution_count": 7,
   "metadata": {},
   "outputs": [
    {
     "name": "stdout",
     "output_type": "stream",
     "text": [
      "8\n",
      "4\n",
      "5\n",
      "6\n",
      "7\n"
     ]
    }
   ],
   "source": [
    "list1.bfs()"
   ]
  },
  {
   "cell_type": "markdown",
   "metadata": {},
   "source": [
    "## Binary Tree"
   ]
  },
  {
   "cell_type": "code",
   "execution_count": 8,
   "metadata": {},
   "outputs": [
    {
     "name": "stdout",
     "output_type": "stream",
     "text": [
      "1 2 3 4 8 36 77 \n",
      "36 4 77 1 8 2 3 "
     ]
    }
   ],
   "source": [
    "\n",
    "class Node:\n",
    "    def __init__(self,node):\n",
    "        self.data = node\n",
    "        self.left = None\n",
    "        self.right = None\n",
    "    def insert(self,data):\n",
    "            if self.data is None:\n",
    "                self.data = data\n",
    "                return\n",
    "            if data<self.data:\n",
    "                if self.left is None:\n",
    "                    self.left = Node(data)\n",
    "                else:\n",
    "                    self.left.insert(data)\n",
    "            else:\n",
    "                if self.right is None:\n",
    "                    self.right = Node(data)\n",
    "                else:\n",
    "                    self.right.insert(data)\n",
    "    def bfs(self):\n",
    "        if self.left:\n",
    "            self.left.bfs()\n",
    "        print(self.data,end=' ')\n",
    "        if self.right:\n",
    "            self.right.bfs()\n",
    "    def dfs(self):\n",
    "        queue = []\n",
    "        queue.append(self)\n",
    "        while queue:\n",
    "            s = queue.pop(0)\n",
    "            print(s.data,end = ' ')\n",
    "            if s.left:\n",
    "                queue.append(s.left) \n",
    "            if s.right:\n",
    "                queue.append(s.right) \n",
    "array = [36,4,77,8,1,2,3]\n",
    "root = Node(array[0])\n",
    "for i in range(1,len(array)):\n",
    "    root.insert(array[i])\n",
    "root.bfs()\n",
    "print()\n",
    "root.dfs()\n"
   ]
  },
  {
   "cell_type": "markdown",
   "metadata": {},
   "source": []
  },
  {
   "cell_type": "markdown",
   "metadata": {},
   "source": [
    "## Weighted Graph Method 1"
   ]
  },
  {
   "cell_type": "code",
   "execution_count": 11,
   "metadata": {},
   "outputs": [],
   "source": [
    "class Graph:\n",
    "    def __init__(self,vertices):\n",
    "        self.V = vertices\n",
    "        self.graph = []"
   ]
  },
  {
   "cell_type": "code",
   "execution_count": 17,
   "metadata": {},
   "outputs": [],
   "source": [
    "graph = Graph(9)\n",
    "graph.graph = [[0, 4, 0, 0, 0, 0, 0, 8, 0], \n",
    "        [4, 0, 8, 0, 0, 0, 0, 11, 0], \n",
    "        [0, 8, 0, 7, 0, 4, 0, 0, 2], \n",
    "        [0, 0, 7, 0, 9, 14, 0, 0, 0], \n",
    "        [0, 0, 0, 9, 0, 10, 0, 0, 0], \n",
    "        [0, 0, 4, 14, 10, 0, 2, 0, 0], \n",
    "        [0, 0, 0, 0, 0, 2, 0, 1, 6], \n",
    "        [8, 11, 0, 0, 0, 0, 1, 0, 7], \n",
    "        [0, 0, 2, 0, 0, 0, 6, 7, 0] \n",
    "        ]"
   ]
  },
  {
   "cell_type": "code",
   "execution_count": 16,
   "metadata": {},
   "outputs": [
    {
     "data": {
      "text/plain": [
       "[[0, 4, 0, 0, 0, 0, 0, 8, 0],\n",
       " [4, 0, 8, 0, 0, 0, 0, 11, 0],\n",
       " [0, 8, 0, 7, 0, 4, 0, 0, 2],\n",
       " [0, 0, 7, 0, 9, 14, 0, 0, 0],\n",
       " [0, 0, 0, 9, 0, 10, 0, 0, 0],\n",
       " [0, 0, 4, 14, 10, 0, 2, 0, 0],\n",
       " [0, 0, 0, 0, 0, 2, 0, 1, 6],\n",
       " [8, 11, 0, 0, 0, 0, 1, 0, 7],\n",
       " [0, 0, 2, 0, 0, 0, 6, 7, 0]]"
      ]
     },
     "execution_count": 16,
     "metadata": {},
     "output_type": "execute_result"
    }
   ],
   "source": [
    "graph.graph"
   ]
  },
  {
   "cell_type": "markdown",
   "metadata": {},
   "source": [
    "## Matrix Creation :-when number of vertices not given"
   ]
  },
  {
   "cell_type": "code",
   "execution_count": 3,
   "metadata": {},
   "outputs": [],
   "source": [
    "N = [['a','c',2],\n",
    "    ['a','b', 3],\n",
    "    ['b','d',7],\n",
    "    ['c','d',6],\n",
    "    ['c','e',5],\n",
    "    ['e','f',3],\n",
    "    ['d','f',1]]\n",
    "graph = Graph()\n",
    "for i in N:\n",
    "    start, end, weight = i\n",
    "    weight = int(weight)\n",
    "    graph.edges.append([start,end,weight])\n",
    "    graph.vertices_add(start)\n",
    "    graph.vertices_add(end)\n",
    "mat = graph.create_matrix() "
   ]
  },
  {
   "cell_type": "code",
   "execution_count": 2,
   "metadata": {},
   "outputs": [],
   "source": [
    "class Graph:\n",
    "    def __init__(self):\n",
    "        self.vertices = []\n",
    "        self.edges = []\n",
    "        self.matrix = []\n",
    "    \n",
    "    def vertices_add(self,value):\n",
    "        try:\n",
    "            self.vertices.index(value)\n",
    "        except ValueError:\n",
    "            self.vertices.append(value)\n",
    "    \n",
    "    def create_matrix(self):\n",
    "        self.matrix = [[0 for i in range(len(self.vertices))] for j in range(len(self.vertices))]\n",
    "    \n",
    "        for i in self.edges:\n",
    "            start_index,end_index = self.vertices.index(i[0]),self.vertices.index(i[1])\n",
    "            self.matrix[start_index][end_index],self.matrix[end_index][start_index] = i[2],i[2]\n",
    "\n",
    "        return self.matrix\n",
    "    "
   ]
  },
  {
   "cell_type": "code",
   "execution_count": 4,
   "metadata": {},
   "outputs": [
    {
     "data": {
      "text/plain": [
       "[[0, 2, 3, 0, 0, 0],\n",
       " [2, 0, 0, 6, 5, 0],\n",
       " [3, 0, 0, 7, 0, 0],\n",
       " [0, 6, 7, 0, 0, 1],\n",
       " [0, 5, 0, 0, 0, 3],\n",
       " [0, 0, 0, 1, 3, 0]]"
      ]
     },
     "execution_count": 4,
     "metadata": {},
     "output_type": "execute_result"
    }
   ],
   "source": [
    "mat"
   ]
  }
 ],
 "metadata": {
  "kernelspec": {
   "display_name": "Python 3",
   "language": "python",
   "name": "python3"
  },
  "language_info": {
   "codemirror_mode": {
    "name": "ipython",
    "version": 3
   },
   "file_extension": ".py",
   "mimetype": "text/x-python",
   "name": "python",
   "nbconvert_exporter": "python",
   "pygments_lexer": "ipython3",
   "version": "3.6.5"
  }
 },
 "nbformat": 4,
 "nbformat_minor": 2
}
