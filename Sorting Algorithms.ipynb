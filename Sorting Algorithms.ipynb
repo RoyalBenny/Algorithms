{
 "cells": [
  {
   "cell_type": "markdown",
   "metadata": {},
   "source": [
    "# Sorting Algorithms"
   ]
  },
  {
   "cell_type": "markdown",
   "metadata": {},
   "source": [
    "## Insert using map function "
   ]
  },
  {
   "cell_type": "code",
   "execution_count": 1,
   "metadata": {},
   "outputs": [
    {
     "name": "stdout",
     "output_type": "stream",
     "text": [
      "2\n",
      "1 3\n"
     ]
    }
   ],
   "source": [
    "N = int(input())\n",
    "arr = list(map(int,input().split()))"
   ]
  },
  {
   "cell_type": "code",
   "execution_count": 39,
   "metadata": {},
   "outputs": [],
   "source": [
    "N=5\n",
    "arr = [64,25,12,22,11]"
   ]
  },
  {
   "cell_type": "markdown",
   "metadata": {},
   "source": [
    "## Bubble Sort "
   ]
  },
  {
   "cell_type": "code",
   "execution_count": 11,
   "metadata": {},
   "outputs": [],
   "source": [
    "#bubble sort functon \n",
    "# time complexity:\n",
    "# best case : O(n)\n",
    "# avg,worst : O(n^2)\n",
    "\n",
    "def bubble_sort(array,n):\n",
    "    for i in range(n-1):\n",
    "        for j in range(n-i-1):\n",
    "            if(array[j]>array[j+1]):\n",
    "                array[j+1],array[j] = array[j],array[j+1]\n",
    "    return array"
   ]
  },
  {
   "cell_type": "code",
   "execution_count": 25,
   "metadata": {},
   "outputs": [
    {
     "data": {
      "text/plain": [
       "[11, 12, 22, 25, 64]"
      ]
     },
     "execution_count": 25,
     "metadata": {},
     "output_type": "execute_result"
    }
   ],
   "source": [
    "bubble_sort(arr,N)"
   ]
  },
  {
   "cell_type": "markdown",
   "metadata": {},
   "source": [
    "## Selection sort"
   ]
  },
  {
   "cell_type": "code",
   "execution_count": 31,
   "metadata": {},
   "outputs": [],
   "source": [
    " \n",
    "# time complexity:\n",
    "# best case : O(n^2)\n",
    "# avg,worst : O(n^2)\n",
    "\n",
    "def selection_sort(array,n):\n",
    "    for i in range(n):\n",
    "        min_index = i\n",
    "        for j in range(i+1,n):\n",
    "            if(array[min_index]>array[j]):\n",
    "                min_index = j \n",
    "        array[i],array[min_index] = array[min_index],array[i]\n",
    "    return array     "
   ]
  },
  {
   "cell_type": "code",
   "execution_count": 34,
   "metadata": {},
   "outputs": [
    {
     "data": {
      "text/plain": [
       "[11, 12, 22, 25, 64]"
      ]
     },
     "execution_count": 34,
     "metadata": {},
     "output_type": "execute_result"
    }
   ],
   "source": [
    "selection_sort(arr,N)"
   ]
  },
  {
   "cell_type": "markdown",
   "metadata": {},
   "source": [
    "## Inserion sort"
   ]
  },
  {
   "cell_type": "code",
   "execution_count": 36,
   "metadata": {},
   "outputs": [],
   "source": [
    "\n",
    "# time complexity:\n",
    "# best case : O(n)\n",
    "# avg,worst : O(n^2)\n",
    "\n",
    "def insertion_sort(array,n):\n",
    "    for i in range(1,n):\n",
    "        value = array[i]\n",
    "        hole = i\n",
    "        while(hole>0 and array[hole-1]>value):\n",
    "            array[hole],hole = array[hole-1],hole-1\n",
    "        array[hole] = value\n",
    "    return array"
   ]
  },
  {
   "cell_type": "code",
   "execution_count": 41,
   "metadata": {},
   "outputs": [
    {
     "data": {
      "text/plain": [
       "[11, 12, 22, 25, 64]"
      ]
     },
     "execution_count": 41,
     "metadata": {},
     "output_type": "execute_result"
    }
   ],
   "source": [
    "insertion_sort(arr,N)"
   ]
  },
  {
   "cell_type": "markdown",
   "metadata": {},
   "source": [
    "## Merge sort "
   ]
  },
  {
   "cell_type": "code",
   "execution_count": 1,
   "metadata": {},
   "outputs": [],
   "source": [
    " \n",
    "# time complexity:\n",
    "# best avg,worst : O(n*log(n))\n",
    "def merge_sort(arr):\n",
    "    if len(arr)>1:\n",
    "            middle = len(arr)//2\n",
    "            L=arr[:middle]\n",
    "            R=arr[middle:]\n",
    "            \n",
    "            merge_sort(L)\n",
    "            merge_sort(R)\n",
    "            \n",
    "            i = j = k = 0\n",
    "            while i<len(L) and j < len(R):\n",
    "                if L[i] < R[j]:\n",
    "                    arr[k] = L[i]\n",
    "                    i+=1\n",
    "                else:\n",
    "                    arr[k] = R[j]\n",
    "                    j+=1\n",
    "                k+=1\n",
    "            arr[k:]=L[i:]\n",
    "            arr+=R[j:]\n",
    "    return arr"
   ]
  },
  {
   "cell_type": "code",
   "execution_count": 29,
   "metadata": {},
   "outputs": [],
   "source": [
    "m = [25,4,8,44,88,11,42,16,80,55]"
   ]
  },
  {
   "cell_type": "code",
   "execution_count": 5,
   "metadata": {},
   "outputs": [
    {
     "data": {
      "text/plain": [
       "[4, 8, 11, 16, 25, 42, 44, 55, 80, 88]"
      ]
     },
     "execution_count": 5,
     "metadata": {},
     "output_type": "execute_result"
    }
   ],
   "source": [
    "merge_sort(m)"
   ]
  },
  {
   "cell_type": "code",
   "execution_count": 91,
   "metadata": {},
   "outputs": [],
   "source": [
    "m.sort()"
   ]
  },
  {
   "cell_type": "code",
   "execution_count": 92,
   "metadata": {},
   "outputs": [
    {
     "data": {
      "text/plain": [
       "[1, 2, 6, 7, 8, 10]"
      ]
     },
     "execution_count": 92,
     "metadata": {},
     "output_type": "execute_result"
    }
   ],
   "source": [
    "m"
   ]
  },
  {
   "cell_type": "code",
   "execution_count": 99,
   "metadata": {},
   "outputs": [
    {
     "name": "stdout",
     "output_type": "stream",
     "text": [
      "1\n",
      "4 5\n",
      "9 7 5 3\n",
      "8 6 4 2 0\n",
      "9 8 7 6 5 4 3 2 0\n"
     ]
    }
   ],
   "source": [
    "T= int(input())\n",
    "for i in range(T):\n",
    "    N,M =input().split()\n",
    "    arr = input().split()\n",
    "    arr+=input().split()\n",
    "    arr.sort(key = int ,reverse=True)\n",
    "    print(\" \".join(arr))\n",
    "\n"
   ]
  },
  {
   "cell_type": "code",
   "execution_count": 97,
   "metadata": {},
   "outputs": [
    {
     "data": {
      "text/plain": [
       "['9', '7', '5', '3']"
      ]
     },
     "execution_count": 97,
     "metadata": {},
     "output_type": "execute_result"
    }
   ],
   "source": [
    "arr"
   ]
  },
  {
   "cell_type": "markdown",
   "metadata": {},
   "source": [
    "## Quick sort"
   ]
  },
  {
   "cell_type": "code",
   "execution_count": 55,
   "metadata": {},
   "outputs": [],
   "source": [
    "\n",
    "# time complexity:\n",
    "# best avg : O(n*log(n))\n",
    "#worst : O(n^2)\n",
    "\n",
    "def partition(a,lb,ub):\n",
    "    pivot = a[lb]\n",
    "    start = lb\n",
    "    end = ub\n",
    "    print(a)\n",
    "    while start<end:\n",
    "        while a[start]<=pivot and start<ub:\n",
    "            start+=1\n",
    "        while a[end]>pivot and end>lb:\n",
    "            end-=1\n",
    "        if start<end:\n",
    "            a[start],a[end] = a[end],a[start]\n",
    "    a[lb],a[end] = a[end],a[lb]\n",
    "    return end\n",
    "\n",
    "def quick_sort(arr,lb,ub):\n",
    "    if lb<ub:\n",
    "        loc = partition(arr,lb,ub)\n",
    "        quick_sort(arr,lb,loc-1)\n",
    "        quick_sort(arr,loc+1,ub)\n",
    "        \n",
    "\n"
   ]
  },
  {
   "cell_type": "code",
   "execution_count": 59,
   "metadata": {},
   "outputs": [
    {
     "name": "stdout",
     "output_type": "stream",
     "text": [
      "[7, 30, 11, 80, 68, 47, 99, 10, 0, 15, -102, 7]\n",
      "[0, 7, -102, 7, 68, 47, 99, 10, 80, 15, 11, 30]\n",
      "[-102, 0, 7, 7, 68, 47, 99, 10, 80, 15, 11, 30]\n",
      "[-102, 0, 7, 7, 15, 47, 30, 10, 11, 68, 80, 99]\n",
      "[-102, 0, 7, 7, 10, 11, 15, 30, 47, 68, 80, 99]\n",
      "[-102, 0, 7, 7, 10, 11, 15, 30, 47, 68, 80, 99]\n",
      "[-102, 0, 7, 7, 10, 11, 15, 30, 47, 68, 80, 99]\n"
     ]
    }
   ],
   "source": [
    "quick_sort(m,0,len(m)-1)"
   ]
  },
  {
   "cell_type": "code",
   "execution_count": 67,
   "metadata": {},
   "outputs": [
    {
     "data": {
      "text/plain": [
       "False"
      ]
     },
     "execution_count": 67,
     "metadata": {},
     "output_type": "execute_result"
    }
   ],
   "source": [
    "m < [7]*len(m)"
   ]
  },
  {
   "cell_type": "code",
   "execution_count": 61,
   "metadata": {},
   "outputs": [],
   "source": [
    "m = [7,30,11,80,68,47,99,10,0,15,-102,7]"
   ]
  },
  {
   "cell_type": "code",
   "execution_count": 69,
   "metadata": {},
   "outputs": [],
   "source": [
    "#quick sort functon \n",
    "# time complexity:\n",
    "# best avg : O(n*log(n))\n",
    "#worst : O(n^2)\n",
    "\n",
    "def partition(a,lb,ub):\n",
    "    pivot = a[lb]\n",
    "    start = lb\n",
    "    end = ub\n",
    "    print(a)\n",
    "    while start<end:\n",
    "        while a[start]<=pivot and start<ub:\n",
    "            start+=1\n",
    "        while a[end]>pivot and end>lb:\n",
    "            end-=1\n",
    "        if start<end:\n",
    "            a[start],a[end] = a[end],a[start]\n",
    "    a[lb],a[end] = a[end],a[lb]\n",
    "    return end\n",
    "\n",
    "def quick_sort(arr,lb,ub):\n",
    "    if lb<ub:\n",
    "        loc = partition(arr,lb,ub)\n",
    "        quick_sort(arr,lb,loc-1)\n",
    "        quick_sort(arr,loc+1,ub)\n",
    "        \n",
    "\n"
   ]
  },
  {
   "cell_type": "code",
   "execution_count": 70,
   "metadata": {},
   "outputs": [],
   "source": [
    "array = [3,102,2,11,8,9,100,101]"
   ]
  },
  {
   "cell_type": "code",
   "execution_count": 71,
   "metadata": {},
   "outputs": [
    {
     "name": "stdout",
     "output_type": "stream",
     "text": [
      "[3, 102, 2, 11, 8, 9, 100, 101]\n",
      "[2, 3, 102, 11, 8, 9, 100, 101]\n",
      "[2, 3, 101, 11, 8, 9, 100, 102]\n",
      "[2, 3, 100, 11, 8, 9, 101, 102]\n",
      "[2, 3, 9, 11, 8, 100, 101, 102]\n"
     ]
    }
   ],
   "source": [
    "quick_sort(array,0,len(array)-1)"
   ]
  },
  {
   "cell_type": "code",
   "execution_count": 72,
   "metadata": {},
   "outputs": [
    {
     "data": {
      "text/plain": [
       "[2, 3, 8, 9, 11, 100, 101, 102]"
      ]
     },
     "execution_count": 72,
     "metadata": {},
     "output_type": "execute_result"
    }
   ],
   "source": [
    "array"
   ]
  },
  {
   "cell_type": "code",
   "execution_count": 76,
   "metadata": {},
   "outputs": [
    {
     "data": {
      "text/plain": [
       "133"
      ]
     },
     "execution_count": 76,
     "metadata": {},
     "output_type": "execute_result"
    }
   ],
   "source": [
    "sum(array[:-2])"
   ]
  },
  {
   "cell_type": "code",
   "execution_count": 75,
   "metadata": {},
   "outputs": [
    {
     "data": {
      "text/plain": [
       "[2, 3, 8, 9, 11, 100]"
      ]
     },
     "execution_count": 75,
     "metadata": {},
     "output_type": "execute_result"
    }
   ],
   "source": [
    "array[:-2]"
   ]
  },
  {
   "cell_type": "code",
   "execution_count": null,
   "metadata": {},
   "outputs": [],
   "source": []
  }
 ],
 "metadata": {
  "kernelspec": {
   "display_name": "Python 3",
   "language": "python",
   "name": "python3"
  },
  "language_info": {
   "codemirror_mode": {
    "name": "ipython",
    "version": 3
   },
   "file_extension": ".py",
   "mimetype": "text/x-python",
   "name": "python",
   "nbconvert_exporter": "python",
   "pygments_lexer": "ipython3",
   "version": "3.6.5"
  }
 },
 "nbformat": 4,
 "nbformat_minor": 2
}
