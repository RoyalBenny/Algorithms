{
 "cells": [
  {
   "cell_type": "markdown",
   "metadata": {},
   "source": [
    "# Greedy Methods"
   ]
  },
  {
   "cell_type": "markdown",
   "metadata": {},
   "source": [
    "## Fractional knapsack problem "
   ]
  },
  {
   "cell_type": "code",
   "execution_count": null,
   "metadata": {},
   "outputs": [],
   "source": [
    "\n",
    "# The basic idea of this greedy approach is to calculate the ratio value/weight for each item and sort the item on basis\n",
    "# of this ratio. Then take the item with the highest ratio and add them until we can’t add the next item as a whole and at \n",
    "# the end add the next item as much as we can. Which will always be the optimal solution to this problem.\n",
    "\n",
    "\n"
   ]
  },
  {
   "cell_type": "code",
   "execution_count": 4,
   "metadata": {},
   "outputs": [],
   "source": [
    "wt = [10,20,10,20] \n",
    "val = [60, 40, 100, 120] \n",
    "capacity = 20"
   ]
  },
  {
   "cell_type": "code",
   "execution_count": 5,
   "metadata": {},
   "outputs": [
    {
     "data": {
      "text/plain": [
       "160.0"
      ]
     },
     "execution_count": 5,
     "metadata": {},
     "output_type": "execute_result"
    }
   ],
   "source": [
    "\n",
    "def sorting(i):\n",
    "    return i[2]\n",
    "\n",
    "def fill_the_sack():\n",
    "    filled_wt=i = 0\n",
    "    ratio = [i/j for i,j in zip(val,wt)]\n",
    "    k = zip(wt,val,ratio)\n",
    "    profit = 0\n",
    "    sorted_arr = sorted(k,key = sorting,reverse=True)\n",
    "    while filled_wt<capacity and i<len(ratio):\n",
    "        if sorted_arr[i][0]+filled_wt<capacity:\n",
    "            profit += sorted_arr[i][1]\n",
    "            filled_wt+=sorted_arr[i][0]\n",
    "            i+=1\n",
    "        else:\n",
    "            profit += (capacity-filled_wt)*sorted_arr[i][2]\n",
    "            filled_wt = capacity\n",
    "            i+=1\n",
    "    return profit\n",
    "\n",
    "\n",
    "fill_the_sack()"
   ]
  },
  {
   "cell_type": "markdown",
   "metadata": {},
   "source": [
    "## Job sequencing"
   ]
  },
  {
   "cell_type": "code",
   "execution_count": 6,
   "metadata": {},
   "outputs": [],
   "source": [
    "\n",
    "\n",
    "# Given an array of jobs where every job has a deadline and associated profit if the job is finished before the deadline.\n",
    "# It is also given that every job takes single unit of time, so the minimum possible deadline for any job is 1. How to maximize \n",
    "# total profit if only one job can be scheduled at a time.\n",
    "\n",
    "# Method\n",
    "# 1) Sort all jobs in decreasing order of profit.\n",
    "# 2) Iterate on jobs in decreasing order of profit.For each job , do the following :\n",
    "# a)Find a time slot i, such that slot is empty and i < deadline and i is greatest.Put the job in\n",
    "# this slot and mark this slot filled.\n",
    "# b)If no such i exists, then ignore the job.\n"
   ]
  },
  {
   "cell_type": "code",
   "execution_count": 114,
   "metadata": {},
   "outputs": [],
   "source": [
    "job_id = ['a','b','c','d','e','f','g']\n",
    "deadline = [10,4,2,1,4,3,9]\n",
    "profit = [35,15,12,5,6,1,2]"
   ]
  },
  {
   "cell_type": "code",
   "execution_count": 115,
   "metadata": {},
   "outputs": [],
   "source": [
    "def sorting(i):\n",
    "    return i[2]"
   ]
  },
  {
   "cell_type": "code",
   "execution_count": 116,
   "metadata": {},
   "outputs": [],
   "source": [
    "arr = zip(job_id,wt,pofit)"
   ]
  },
  {
   "cell_type": "code",
   "execution_count": 117,
   "metadata": {},
   "outputs": [
    {
     "data": {
      "text/plain": [
       "1"
      ]
     },
     "execution_count": 117,
     "metadata": {},
     "output_type": "execute_result"
    }
   ],
   "source": [
    "deadline.count(2)"
   ]
  },
  {
   "cell_type": "code",
   "execution_count": 120,
   "metadata": {},
   "outputs": [],
   "source": [
    "def job_seq(job_id_array,dead,prft):\n",
    "    array  = sorted(zip(job_id_array,dead,prft),key = sorting,reverse= True)\n",
    "    seq_array = [0]*max(dead)\n",
    "    profit_attain = 0\n",
    "    for i in range(len(array)):\n",
    "        seq_arr_index = array[i][1]-1\n",
    "        if seq_array[seq_arr_index]==0:\n",
    "            seq_array[seq_arr_index] = 1\n",
    "            profit_attain+=array[i][2]\n",
    "        else:\n",
    "            j=seq_arr_index-1\n",
    "            while(j!=-1):\n",
    "                if seq_array[j]==0:\n",
    "                    seq_array[j]=1\n",
    "                    profit_attain+=array[i][2]\n",
    "                    break\n",
    "                j-=1\n",
    "        if seq_array.count(1)==len(seq_array):\n",
    "            return profit_attain\n",
    "    return profit_attain"
   ]
  },
  {
   "cell_type": "code",
   "execution_count": 121,
   "metadata": {},
   "outputs": [
    {
     "name": "stdout",
     "output_type": "stream",
     "text": [
      "75\n"
     ]
    }
   ],
   "source": [
    "print(job_seq(job_id,deadline,profit))"
   ]
  },
  {
   "cell_type": "markdown",
   "metadata": {},
   "source": [
    "## Tree structure class"
   ]
  },
  {
   "cell_type": "code",
   "execution_count": 1,
   "metadata": {},
   "outputs": [],
   "source": [
    "\n",
    "class Tree:\n",
    "    def  __init__(self,key):\n",
    "        self.left = None\n",
    "        self.right = None\n",
    "        self.val = key\n",
    "        "
   ]
  },
  {
   "cell_type": "code",
   "execution_count": 11,
   "metadata": {},
   "outputs": [],
   "source": [
    "tree = Tree(5)"
   ]
  },
  {
   "cell_type": "code",
   "execution_count": 17,
   "metadata": {},
   "outputs": [
    {
     "data": {
      "text/plain": [
       "5"
      ]
     },
     "execution_count": 17,
     "metadata": {},
     "output_type": "execute_result"
    }
   ],
   "source": [
    "tree.val"
   ]
  },
  {
   "cell_type": "markdown",
   "metadata": {},
   "source": [
    "## optimal merge pattern"
   ]
  },
  {
   "cell_type": "code",
   "execution_count": 63,
   "metadata": {},
   "outputs": [],
   "source": [
    "\n",
    "# When two or more sorted files are to be merged all together to form a single file, the minimum computations \n",
    "# done to reach this file are known as Optimal Merge Pattern.\n",
    "size_of_arrays = [2,3,4,7,6,5]\n",
    "size_of_arrays.sort()\n",
    "\n",
    "def create_node(array):\n",
    "    node_array = []\n",
    "    for i in array:\n",
    "        node_array.append(Tree(i))\n",
    "    return node_array\n",
    "\n",
    "def create_tree(array,root):\n",
    "    root.left = array.pop()\n",
    "    root.right = array.pop()\n",
    "    root.val = tree.left.val + tree.right.val\n",
    "    while len(array)>0:\n",
    "        if len(array)>2:\n",
    "            if root.val+array[0].val<array[0].val+array[1].val:\n",
    "                node = Tree(root.val+array[0].val)\n",
    "                node.left = root\n",
    "                node.right = array.pop()\n",
    "                root = node\n",
    "            else:\n",
    "                node = Tree(array[0].val+array[1].val)\n",
    "                node.left = array.pop()\n",
    "                node.right = array.pop()\n",
    "\n",
    "                #attaching to parent node\n",
    "                top_node = Tree(node.val+root.val)\n",
    "                top_node.left = root\n",
    "                top_node.right = node\n",
    "                root = top_node\n",
    "        else : \n",
    "            #attaching to parent node\n",
    "            top_node = Tree(array.pop().val+root.val)\n",
    "            top_node.left = root\n",
    "            top_node.right = top_node\n",
    "            root = top_node\n",
    "            \n",
    "   \n",
    "        \n",
    "    return root"
   ]
  },
  {
   "cell_type": "code",
   "execution_count": 64,
   "metadata": {},
   "outputs": [],
   "source": [
    "node_array = create_node(size_of_arrays)"
   ]
  },
  {
   "cell_type": "code",
   "execution_count": 65,
   "metadata": {},
   "outputs": [],
   "source": [
    "tree = Tree(0)"
   ]
  },
  {
   "cell_type": "code",
   "execution_count": 66,
   "metadata": {},
   "outputs": [
    {
     "data": {
      "text/plain": [
       "23"
      ]
     },
     "execution_count": 66,
     "metadata": {},
     "output_type": "execute_result"
    }
   ],
   "source": [
    "create_tree(node_array,tree).val"
   ]
  },
  {
   "cell_type": "markdown",
   "metadata": {},
   "source": [
    "## Dijkstra's Alogithm"
   ]
  },
  {
   "cell_type": "code",
   "execution_count": 1,
   "metadata": {},
   "outputs": [
    {
     "name": "stdout",
     "output_type": "stream",
     "text": [
      "9\n",
      "C B 10\n",
      "B D 15\n",
      "D C 11\n",
      "D E 6\n",
      "E F 9\n",
      "F A 14\n",
      "A B 7\n",
      "F C 2\n",
      "A C 9\n",
      "2\n",
      "A E\n",
      "28\n",
      "B C\n",
      "26\n"
     ]
    }
   ],
   "source": [
    "import sys\n",
    "class Graph:\n",
    "    def __init__(self,vertex,size):\n",
    "        self.matrix=[[0 for i in range(size)] for j in range(size)]\n",
    "        self.vertex=vertex\n",
    "        self.size=size\n",
    "        \n",
    "        \n",
    "    def return_index(self,name):\n",
    "        return self.vertex.index(name)\n",
    "    \n",
    "    def return_list(self):\n",
    "        return self.vertex\n",
    "\n",
    "    def add_weight(self,array):\n",
    "        for i in array:\n",
    "            x=self.return_index(i[0])\n",
    "            y=self.return_index(i[1])\n",
    "            weight=int(i[2])\n",
    "            self.matrix[x][y]=weight\n",
    "            #self.matrix[y][x]=weight if undirected graph, remove the hash tag \n",
    "        \n",
    "    def print_matrix(self):\n",
    "        print(self.matrix)\n",
    "        \n",
    "    \n",
    "    def dijkstra(self,start,end):\n",
    "        index=self.return_index(start)\n",
    "        end=self.return_index(end)\n",
    "        if(index==end):\n",
    "            print(0)\n",
    "            return\n",
    "        array=[sys.maxsize]*self.size\n",
    "        fixed=[]\n",
    "        fixed.append(index)\n",
    "        array[index]=0\n",
    "        while(True):\n",
    "            length=array[index]\n",
    "            for i in range(self.size):\n",
    "                if i in fixed:\n",
    "                    continue\n",
    "                min_length=length+self.matrix[index][i]\n",
    "                if(self.matrix[index][i]!=0 and min_length<array[i]):\n",
    "                    array[i]=min_length\n",
    "            index=array.index(min(array[j] for j in range(self.size) if j not in fixed))\n",
    "            if(index in fixed):\n",
    "                min_value=min(array[j] for j in range(self.size) if j not in fixed)\n",
    "                for k in range(self.size):\n",
    "                    if min_value==array[k] and k not in fixed:\n",
    "                        index=k\n",
    "                        break\n",
    "            fixed.append(index)\n",
    "            if(index==end):\n",
    "                print(array[index] if array[index]!=sys.maxsize else -1)\n",
    "                break\n",
    "\n",
    "\n",
    "N=int(input())\n",
    "list_data=[]\n",
    "array=[]\n",
    "for i in range(N):\n",
    "    input_value=input().split()\n",
    "    try:\n",
    "        list_data.index(input_value[0])\n",
    "    except:\n",
    "        list_data.append(input_value[0])\n",
    "    try:\n",
    "        list_data.index(input_value[1])\n",
    "    except:\n",
    "        list_data.append(input_value[1])\n",
    "    array.append(input_value)\n",
    "g=Graph(list_data,len(list_data))\n",
    "g.add_weight(array)\n",
    "K=int(input())\n",
    "for i in range(K):\n",
    "    start,end=input().split()\n",
    "    g.dijkstra(start,end)"
   ]
  },
  {
   "cell_type": "code",
   "execution_count": null,
   "metadata": {},
   "outputs": [],
   "source": []
  }
 ],
 "metadata": {
  "kernelspec": {
   "display_name": "Python 3",
   "language": "python",
   "name": "python3"
  },
  "language_info": {
   "codemirror_mode": {
    "name": "ipython",
    "version": 3
   },
   "file_extension": ".py",
   "mimetype": "text/x-python",
   "name": "python",
   "nbconvert_exporter": "python",
   "pygments_lexer": "ipython3",
   "version": "3.6.5"
  }
 },
 "nbformat": 4,
 "nbformat_minor": 2
}
