{
 "cells": [
  {
   "cell_type": "markdown",
   "metadata": {},
   "source": [
    "# Greedy Methods"
   ]
  },
  {
   "cell_type": "markdown",
   "metadata": {},
   "source": [
    "## Fractional knapsack problem "
   ]
  },
  {
   "cell_type": "code",
   "execution_count": null,
   "metadata": {},
   "outputs": [],
   "source": [
    "\n",
    "# The basic idea of this greedy approach is to calculate the ratio value/weight for each item and sort the item on basis\n",
    "# of this ratio. Then take the item with the highest ratio and add them until we can’t add the next item as a whole and at \n",
    "# the end add the next item as much as we can. Which will always be the optimal solution to this problem.\n",
    "\n",
    "\n"
   ]
  },
  {
   "cell_type": "code",
   "execution_count": 4,
   "metadata": {},
   "outputs": [],
   "source": [
    "wt = [10,20,10,20] \n",
    "val = [60, 40, 100, 120] \n",
    "capacity = 20"
   ]
  },
  {
   "cell_type": "code",
   "execution_count": 5,
   "metadata": {},
   "outputs": [
    {
     "data": {
      "text/plain": [
       "160.0"
      ]
     },
     "execution_count": 5,
     "metadata": {},
     "output_type": "execute_result"
    }
   ],
   "source": [
    "\n",
    "def sorting(i):\n",
    "    return i[2]\n",
    "\n",
    "def fill_the_sack():\n",
    "    filled_wt=i = 0\n",
    "    ratio = [i/j for i,j in zip(val,wt)]\n",
    "    k = zip(wt,val,ratio)\n",
    "    profit = 0\n",
    "    sorted_arr = sorted(k,key = sorting,reverse=True)\n",
    "    while filled_wt<capacity and i<len(ratio):\n",
    "        if sorted_arr[i][0]+filled_wt<capacity:\n",
    "            profit += sorted_arr[i][1]\n",
    "            filled_wt+=sorted_arr[i][0]\n",
    "            i+=1\n",
    "        else:\n",
    "            profit += (capacity-filled_wt)*sorted_arr[i][2]\n",
    "            filled_wt = capacity\n",
    "            i+=1\n",
    "    return profit\n",
    "\n",
    "\n",
    "fill_the_sack()"
   ]
  },
  {
   "cell_type": "markdown",
   "metadata": {},
   "source": [
    "## Job sequencing"
   ]
  },
  {
   "cell_type": "code",
   "execution_count": 6,
   "metadata": {},
   "outputs": [],
   "source": [
    "\n",
    "\n",
    "# Given an array of jobs where every job has a deadline and associated profit if the job is finished before the deadline.\n",
    "# It is also given that every job takes single unit of time, so the minimum possible deadline for any job is 1. How to maximize \n",
    "# total profit if only one job can be scheduled at a time.\n",
    "\n",
    "# Method\n",
    "# 1) Sort all jobs in decreasing order of profit.\n",
    "# 2) Iterate on jobs in decreasing order of profit.For each job , do the following :\n",
    "# a)Find a time slot i, such that slot is empty and i < deadline and i is greatest.Put the job in\n",
    "# this slot and mark this slot filled.\n",
    "# b)If no such i exists, then ignore the job.\n"
   ]
  },
  {
   "cell_type": "code",
   "execution_count": 114,
   "metadata": {},
   "outputs": [],
   "source": [
    "job_id = ['a','b','c','d','e','f','g']\n",
    "deadline = [10,4,2,1,4,3,9]\n",
    "profit = [35,15,12,5,6,1,2]"
   ]
  },
  {
   "cell_type": "code",
   "execution_count": 115,
   "metadata": {},
   "outputs": [],
   "source": [
    "def sorting(i):\n",
    "    return i[2]"
   ]
  },
  {
   "cell_type": "code",
   "execution_count": 116,
   "metadata": {},
   "outputs": [],
   "source": [
    "arr = zip(job_id,wt,pofit)"
   ]
  },
  {
   "cell_type": "code",
   "execution_count": 117,
   "metadata": {},
   "outputs": [
    {
     "data": {
      "text/plain": [
       "1"
      ]
     },
     "execution_count": 117,
     "metadata": {},
     "output_type": "execute_result"
    }
   ],
   "source": [
    "deadline.count(2)"
   ]
  },
  {
   "cell_type": "code",
   "execution_count": 120,
   "metadata": {},
   "outputs": [],
   "source": [
    "def job_seq(job_id_array,dead,prft):\n",
    "    array  = sorted(zip(job_id_array,dead,prft),key = sorting,reverse= True)\n",
    "    seq_array = [0]*max(dead)\n",
    "    profit_attain = 0\n",
    "    for i in range(len(array)):\n",
    "        seq_arr_index = array[i][1]-1\n",
    "        if seq_array[seq_arr_index]==0:\n",
    "            seq_array[seq_arr_index] = 1\n",
    "            profit_attain+=array[i][2]\n",
    "        else:\n",
    "            j=seq_arr_index-1\n",
    "            while(j!=-1):\n",
    "                if seq_array[j]==0:\n",
    "                    seq_array[j]=1\n",
    "                    profit_attain+=array[i][2]\n",
    "                    break\n",
    "                j-=1\n",
    "        if seq_array.count(1)==len(seq_array):\n",
    "            return profit_attain\n",
    "    return profit_attain"
   ]
  },
  {
   "cell_type": "code",
   "execution_count": 121,
   "metadata": {},
   "outputs": [
    {
     "name": "stdout",
     "output_type": "stream",
     "text": [
      "75\n"
     ]
    }
   ],
   "source": [
    "print(job_seq(job_id,deadline,profit))"
   ]
  },
  {
   "cell_type": "markdown",
   "metadata": {},
   "source": [
    "## Tree structure class"
   ]
  },
  {
   "cell_type": "code",
   "execution_count": 1,
   "metadata": {},
   "outputs": [],
   "source": [
    "\n",
    "class Tree:\n",
    "    def  __init__(self,key):\n",
    "        self.left = None\n",
    "        self.right = None\n",
    "        self.val = key\n",
    "        "
   ]
  },
  {
   "cell_type": "code",
   "execution_count": 11,
   "metadata": {},
   "outputs": [],
   "source": [
    "tree = Tree(5)"
   ]
  },
  {
   "cell_type": "code",
   "execution_count": 17,
   "metadata": {},
   "outputs": [
    {
     "data": {
      "text/plain": [
       "5"
      ]
     },
     "execution_count": 17,
     "metadata": {},
     "output_type": "execute_result"
    }
   ],
   "source": [
    "tree.val"
   ]
  },
  {
   "cell_type": "markdown",
   "metadata": {},
   "source": [
    "## optimal merge pattern"
   ]
  },
  {
   "cell_type": "code",
   "execution_count": 63,
   "metadata": {},
   "outputs": [],
   "source": [
    "\n",
    "# When two or more sorted files are to be merged all together to form a single file, the minimum computations \n",
    "# done to reach this file are known as Optimal Merge Pattern.\n",
    "size_of_arrays = [2,3,4,7,6,5]\n",
    "size_of_arrays.sort()\n",
    "\n",
    "def create_node(array):\n",
    "    node_array = []\n",
    "    for i in array:\n",
    "        node_array.append(Tree(i))\n",
    "    return node_array\n",
    "\n",
    "def create_tree(array,root):\n",
    "    root.left = array.pop()\n",
    "    root.right = array.pop()\n",
    "    root.val = tree.left.val + tree.right.val\n",
    "    while len(array)>0:\n",
    "        if len(array)>2:\n",
    "            if root.val+array[0].val<array[0].val+array[1].val:\n",
    "                node = Tree(root.val+array[0].val)\n",
    "                node.left = root\n",
    "                node.right = array.pop()\n",
    "                root = node\n",
    "            else:\n",
    "                node = Tree(array[0].val+array[1].val)\n",
    "                node.left = array.pop()\n",
    "                node.right = array.pop()\n",
    "\n",
    "                #attaching to parent node\n",
    "                top_node = Tree(node.val+root.val)\n",
    "                top_node.left = root\n",
    "                top_node.right = node\n",
    "                root = top_node\n",
    "        else : \n",
    "            #attaching to parent node\n",
    "            top_node = Tree(array.pop().val+root.val)\n",
    "            top_node.left = root\n",
    "            top_node.right = top_node\n",
    "            root = top_node\n",
    "            \n",
    "   \n",
    "        \n",
    "    return root"
   ]
  },
  {
   "cell_type": "code",
   "execution_count": 64,
   "metadata": {},
   "outputs": [],
   "source": [
    "node_array = create_node(size_of_arrays)"
   ]
  },
  {
   "cell_type": "code",
   "execution_count": 65,
   "metadata": {},
   "outputs": [],
   "source": [
    "tree = Tree(0)"
   ]
  },
  {
   "cell_type": "code",
   "execution_count": 66,
   "metadata": {},
   "outputs": [
    {
     "data": {
      "text/plain": [
       "23"
      ]
     },
     "execution_count": 66,
     "metadata": {},
     "output_type": "execute_result"
    }
   ],
   "source": [
    "create_tree(node_array,tree).val"
   ]
  },
  {
   "cell_type": "markdown",
   "metadata": {},
   "source": [
    "## Dijkstra's Alogithm"
   ]
  },
  {
   "cell_type": "code",
   "execution_count": 1,
   "metadata": {},
   "outputs": [
    {
     "name": "stdout",
     "output_type": "stream",
     "text": [
      "9\n",
      "C B 10\n",
      "B D 15\n",
      "D C 11\n",
      "D E 6\n",
      "E F 9\n",
      "F A 14\n",
      "A B 7\n",
      "F C 2\n",
      "A C 9\n",
      "2\n",
      "A E\n",
      "28\n",
      "B C\n",
      "26\n"
     ]
    }
   ],
   "source": [
    "import sys\n",
    "class Graph:\n",
    "    def __init__(self,vertex,size):\n",
    "        self.matrix=[[0 for i in range(size)] for j in range(size)]\n",
    "        self.vertex=vertex\n",
    "        self.size=size\n",
    "        \n",
    "        \n",
    "    def return_index(self,name):\n",
    "        return self.vertex.index(name)\n",
    "    \n",
    "    def return_list(self):\n",
    "        return self.vertex\n",
    "\n",
    "    def add_weight(self,array):\n",
    "        for i in array:\n",
    "            x=self.return_index(i[0])\n",
    "            y=self.return_index(i[1])\n",
    "            weight=int(i[2])\n",
    "            self.matrix[x][y]=weight\n",
    "            #self.matrix[y][x]=weight if undirected graph, remove the hash tag \n",
    "        \n",
    "    def print_matrix(self):\n",
    "        print(self.matrix)\n",
    "        \n",
    "    \n",
    "    def dijkstra(self,start,end):\n",
    "        index=self.return_index(start)\n",
    "        end=self.return_index(end)\n",
    "        if(index==end):\n",
    "            print(0)\n",
    "            return\n",
    "        array=[sys.maxsize]*self.size\n",
    "        fixed=[]\n",
    "        fixed.append(index)\n",
    "        array[index]=0\n",
    "        while(True):\n",
    "            length=array[index]\n",
    "            for i in range(self.size):\n",
    "                if i in fixed:\n",
    "                    continue\n",
    "                min_length=length+self.matrix[index][i]\n",
    "                if(self.matrix[index][i]!=0 and min_length<array[i]):\n",
    "                    array[i]=min_length\n",
    "            index=array.index(min(array[j] for j in range(self.size) if j not in fixed))\n",
    "            if(index in fixed):\n",
    "                min_value=min(array[j] for j in range(self.size) if j not in fixed)\n",
    "                for k in range(self.size):\n",
    "                    if min_value==array[k] and k not in fixed:\n",
    "                        index=k\n",
    "                        break\n",
    "            fixed.append(index)\n",
    "            if(index==end):\n",
    "                print(array[index] if array[index]!=sys.maxsize else -1)\n",
    "                break\n",
    "\n",
    "\n",
    "N=int(input())\n",
    "list_data=[]\n",
    "array=[]\n",
    "for i in range(N):\n",
    "    input_value=input().split()\n",
    "    try:\n",
    "        list_data.index(input_value[0])\n",
    "    except:\n",
    "        list_data.append(input_value[0])\n",
    "    try:\n",
    "        list_data.index(input_value[1])\n",
    "    except:\n",
    "        list_data.append(input_value[1])\n",
    "    array.append(input_value)\n",
    "g=Graph(list_data,len(list_data))\n",
    "g.add_weight(array)\n",
    "K=int(input())\n",
    "for i in range(K):\n",
    "    start,end=input().split()\n",
    "    g.dijkstra(start,end)"
   ]
  },
  {
   "cell_type": "markdown",
   "metadata": {},
   "source": [
    "## Union Find Algorithm\n",
    "### Part of Kruskal Algorithm"
   ]
  },
  {
   "cell_type": "code",
   "execution_count": 1,
   "metadata": {},
   "outputs": [],
   "source": [
    "def find(array,i):\n",
    "    if array[i] <=-1:\n",
    "        return i\n",
    "    return find(array,array[i])\n",
    "\n",
    "def union(array,u,v):\n",
    "    if array[u] >= array[v]:\n",
    "        array[u] += array[v]\n",
    "        array[v] = u\n",
    "    else:\n",
    "        array[v] += array[u]\n",
    "        array[u] = v\n",
    "        \n",
    "def is_cycle(array,u,v):\n",
    "    u_parent = find(array,u)\n",
    "    v_parent = find(array,v)\n",
    "    \n",
    "    if u_parent == v_parent:\n",
    "        return True\n",
    "    \n",
    "    else:\n",
    "        union(array,u_parent,v_parent)\n",
    "        return False\n"
   ]
  },
  {
   "cell_type": "code",
   "execution_count": 4,
   "metadata": {},
   "outputs": [],
   "source": [
    "N = [['a','b',1],\n",
    "    ['b','c',3],\n",
    "    ['a','d',2],\n",
    "    ['d','c',4],\n",
    "    ['d','e',9],\n",
    "    ['e','h',7],\n",
    "    ['f','g',6],\n",
    "    ['e','f',8],\n",
    "    ['g','h',5]]\n",
    "graph = Graph()\n",
    "for i in N:\n",
    "    start, end, weight = i\n",
    "    weight = int(weight)\n",
    "    graph.edges.append([start,end,weight])\n",
    "    graph.vertices_add(start)\n",
    "    graph.vertices_add(end)\n"
   ]
  },
  {
   "cell_type": "code",
   "execution_count": 2,
   "metadata": {},
   "outputs": [],
   "source": [
    "class Graph:\n",
    "    def __init__(self):\n",
    "        self.vertices = []\n",
    "        self.edges = []\n",
    "        self.parent = []\n",
    "        \n",
    "    \n",
    "    def vertices_add(self,value):\n",
    "        try:\n",
    "            self.vertices.index(value)\n",
    "        except ValueError:\n",
    "            self.vertices.append(value)\n",
    "            self.parent.append(-1)\n",
    "    def return_vertex_index(self,vertex):\n",
    "        return self.vertices.index(vertex)"
   ]
  },
  {
   "cell_type": "code",
   "execution_count": 3,
   "metadata": {},
   "outputs": [],
   "source": [
    "def sort_by_weight(i):\n",
    "    return i[2]"
   ]
  },
  {
   "cell_type": "code",
   "execution_count": 5,
   "metadata": {},
   "outputs": [],
   "source": [
    "N = sorted(N,key = sort_by_weight)"
   ]
  },
  {
   "cell_type": "code",
   "execution_count": 6,
   "metadata": {},
   "outputs": [],
   "source": [
    "total_weight = 0\n",
    "for u,v,wt in N:\n",
    "    u_index = graph.return_vertex_index(u)\n",
    "    v_index = graph.return_vertex_index(v)\n",
    "    if not is_cycle(graph.parent,u_index,v_index):\n",
    "        total_weight+=wt"
   ]
  },
  {
   "cell_type": "code",
   "execution_count": 7,
   "metadata": {},
   "outputs": [
    {
     "data": {
      "text/plain": [
       "33"
      ]
     },
     "execution_count": 7,
     "metadata": {},
     "output_type": "execute_result"
    }
   ],
   "source": [
    "total_weight"
   ]
  },
  {
   "cell_type": "markdown",
   "metadata": {},
   "source": [
    "## Kruskal Algorithm\n",
    "### -by union find rank algo"
   ]
  },
  {
   "cell_type": "code",
   "execution_count": 8,
   "metadata": {},
   "outputs": [
    {
     "name": "stdout",
     "output_type": "stream",
     "text": [
      "33\n"
     ]
    }
   ],
   "source": [
    "class UnionFind:\n",
    "    def __init__(self,parent,size,size_arr):\n",
    "        self.parent = parent\n",
    "        self.size = size\n",
    "        self.size_arr = size_arr\n",
    "     \n",
    "        \n",
    "    def find(self,a,b):\n",
    "        if self.root(a)  == self.root(b):\n",
    "            return True\n",
    "        else:\n",
    "            return False\n",
    "\n",
    "    def is_cycle(self,u,v):\n",
    "\n",
    "        if self.find(u,v):\n",
    "            return True\n",
    "\n",
    "        else:\n",
    "            self.weighted_union(u,v)\n",
    "            return False\n",
    "        \n",
    "    def weighted_union(self,a,b):\n",
    "        root_a = self.root(a)\n",
    "        root_b = self.root(b)\n",
    "        \n",
    "        if self.size_arr[root_a] < self.size_arr[root_b]:\n",
    "            self.parent[root_a] = self.parent[root_b]\n",
    "            self.size_arr[root_b]+=self.size_arr[root_b]\n",
    "        else:\n",
    "            self.parent[root_b] = self.parent[root_a]\n",
    "            self.size_arr[root_a] += self.size_arr[root_b]\n",
    "    \n",
    "    def root(self,i):\n",
    "        while self.parent[i] != i:\n",
    "            self.parent[i] = self.parent[self.parent[i]]\n",
    "            i = self.parent[i]\n",
    "            \n",
    "        return i\n",
    "\n",
    "class Graph:\n",
    "    def __init__(self):\n",
    "        self.vertices = []\n",
    "        self.parent = []\n",
    "        self.size = 0\n",
    "        self.size_arr = []\n",
    "        \n",
    "    \n",
    "    def vertices_add(self,value):\n",
    "        try:\n",
    "            self.vertices.index(value)\n",
    "        except ValueError:\n",
    "            self.vertices.append(value)\n",
    "            self.parent.append(self.size)\n",
    "            self.size_arr.append(1)\n",
    "            self.size+=1\n",
    "    def return_vertex_index(self,vertex):\n",
    "        return self.vertices.index(vertex)\n",
    "    \n",
    "    def sort_by_weight(self,i):\n",
    "        return i[2]\n",
    "\n",
    "N = [['a','b',1],\n",
    "    ['b','c',3],\n",
    "    ['a','d',2],\n",
    "    ['d','c',4],\n",
    "    ['d','e',9],\n",
    "    ['e','h',7],\n",
    "    ['f','g',6],\n",
    "    ['e','f',8],\n",
    "    ['g','h',5]]\n",
    "graph = Graph()\n",
    "for i in N:\n",
    "    start, end, weight = i\n",
    "    weight = int(weight)\n",
    "    graph.vertices_add(start)\n",
    "    graph.vertices_add(end)\n",
    "\n",
    "N = sorted(N,key = graph.sort_by_weight)\n",
    "total_weight = 0\n",
    "union_find = UnionFind(graph.parent,graph.size,graph.size_arr)\n",
    "for u,v,wt in N:\n",
    "    u_index = graph.return_vertex_index(u)\n",
    "    v_index = graph.return_vertex_index(v)\n",
    "    if not union_find.is_cycle(u_index,v_index):\n",
    "        total_weight+=wt\n",
    "\n",
    "\n",
    "print(total_weight)\n"
   ]
  },
  {
   "cell_type": "markdown",
   "metadata": {},
   "source": [
    "## Kruskal Algorithm - most optimized \n",
    "#### -by union find rank algo "
   ]
  },
  {
   "cell_type": "code",
   "execution_count": 13,
   "metadata": {},
   "outputs": [
    {
     "name": "stdout",
     "output_type": "stream",
     "text": [
      "7\n"
     ]
    }
   ],
   "source": [
    "from  sys import stdin, stdout\n",
    "class Graph:\n",
    "    def __init__(self,v):\n",
    "        self.parent = [i for i in range(v)]\n",
    "        self.size_arr = [1]*v\n",
    "                   \n",
    "    \n",
    "    def sort_by_weight(self,i):\n",
    "        return i[2]\n",
    "\n",
    "    def find(self,a,b):\n",
    "        return self.root(a)  == self.root(b)\n",
    "          \n",
    "\n",
    "\n",
    "    def is_cycle(self,u,v):\n",
    "\n",
    "        if self.find(u,v):\n",
    "            return True\n",
    "\n",
    "        else:\n",
    "            self.weighted_union(u,v)\n",
    "            return False\n",
    "        \n",
    "    def weighted_union(self,a,b):\n",
    "        root_a = self.root(a)\n",
    "        root_b = self.root(b)\n",
    "        \n",
    "        if self.size_arr[root_a] < self.size_arr[root_b]:\n",
    "            self.parent[root_a] = self.parent[root_b]\n",
    "            self.size_arr[root_b]+=self.size_arr[root_b]\n",
    "        else:\n",
    "            self.parent[root_b] = self.parent[root_a]\n",
    "            self.size_arr[root_a] += self.size_arr[root_b]\n",
    "    \n",
    "    def root(self,i):\n",
    "        while self.parent[i] != i:\n",
    "            self.parent[i] = self.parent[self.parent[i]]\n",
    "            i = self.parent[i]\n",
    "            \n",
    "        return i\n",
    "\n",
    "def main():\n",
    "    T = 1\n",
    "    for t in range(T):\n",
    "\n",
    "        V,M = 3,3\n",
    "\n",
    "        graph = Graph(V)\n",
    "        N =[[1,2,2],\n",
    "           [2,3,3],\n",
    "           [1,3,4]]\n",
    "#         for m in range(M):\n",
    "#             start, end, weight = [int(i) for i in stdin.readline().split()]  #use when input takes from the user. input() slows when large input is given\n",
    "#             N.append([start-1,end-1,weight])\n",
    "\n",
    "        N = sorted(N,key = graph.sort_by_weight,reverse= True)\n",
    "        total_weight = 0\n",
    "        for u,v,wt in N:\n",
    "            if not graph.is_cycle(u-1,v-1):\n",
    "                total_weight+=wt\n",
    "        stdout.write(str(total_weight)+\"\\n\")\n",
    "\n",
    "\n",
    "main()"
   ]
  },
  {
   "cell_type": "markdown",
   "metadata": {},
   "source": [
    "## Maximum Flow Algorithm"
   ]
  },
  {
   "cell_type": "code",
   "execution_count": 1,
   "metadata": {},
   "outputs": [
    {
     "name": "stdout",
     "output_type": "stream",
     "text": [
      "10\n",
      "S A 8\n",
      "S B 10\n",
      "A B 4\n",
      "A C 8\n",
      "A D 5\n",
      "B D 2\n",
      "B C 5\n",
      "C T 4\n",
      "C D 3\n",
      "D T 12\n",
      "14\n"
     ]
    }
   ],
   "source": [
    "class Graph:\n",
    "   \n",
    "    def __init__(self,vertex,size):\n",
    "        self.matrix=[[0 for i in range(size)] for j in range(size)]\n",
    "        self.vertex=vertex\n",
    "        self.size=size\n",
    "       \n",
    "       \n",
    "    def return_index(self,name):\n",
    "        return self.vertex.index(name)\n",
    "   \n",
    "    def return_list(self):\n",
    "        return self.vertex\n",
    "\n",
    "    def add_weight(self,array):\n",
    "        for i in array:\n",
    "            x=self.return_index(i[0])\n",
    "            y=self.return_index(i[1])\n",
    "            weight=int(i[2])\n",
    "            self.matrix[x][y]=weight\n",
    "            #self.matrix[y][x]=weight if undirected graph, remove the hash tag\n",
    "       \n",
    "    def print_matrix(self):\n",
    "        print(self.matrix)\n",
    " \n",
    "    def BFS(self,source,sink,parent):\n",
    "        visited=[False]*self.size\n",
    "        queue=[]\n",
    "       \n",
    "        queue.append(source)\n",
    "        visited[source]=True\n",
    "       \n",
    "        while(queue):\n",
    "           \n",
    "            u=queue.pop(0)\n",
    "           \n",
    "            for ind,val in enumerate(self.matrix[u]):\n",
    "                if visited[ind]==False and val>0:\n",
    "                    visited[ind]=True\n",
    "                    queue.append(ind)\n",
    "                    parent[ind]=u\n",
    "                   \n",
    "        return True if visited[sink] else False\n",
    "   \n",
    "    def ford_fulkerson(self):\n",
    "        parent=[-1]*self.size\n",
    "        source=self.return_index('S')\n",
    "        sink=self.return_index('T')\n",
    "        max_flow=0\n",
    "       \n",
    "        while self.BFS(source,sink,parent):\n",
    "           \n",
    "            path_flow=float('Inf')\n",
    "            s=sink\n",
    "           \n",
    "            while(s!=source):\n",
    "                path_flow=min(path_flow,self.matrix[parent[s]][s])\n",
    "                s=parent[s]\n",
    "            max_flow+=path_flow\n",
    "           \n",
    "            v=sink\n",
    "           \n",
    "            while(v!=source):\n",
    "                u=parent[v]\n",
    "                self.matrix[u][v]-=path_flow\n",
    "                self.matrix[v][u]+=path_flow\n",
    "                v=parent[v]\n",
    "               \n",
    "        return max_flow\n",
    "\n",
    "N=int(input())\n",
    "list_data=[]\n",
    "array=[]\n",
    "for i in range(N):\n",
    "    input_value=input().split()\n",
    "    try:\n",
    "        list_data.index(input_value[0])\n",
    "    except:\n",
    "        list_data.append(input_value[0])\n",
    "    try:\n",
    "        list_data.index(input_value[1])\n",
    "    except:\n",
    "        list_data.append(input_value[1])\n",
    "    array.append(input_value)\n",
    "g=Graph(list_data,len(list_data))\n",
    "g.add_weight(array)\n",
    "\n",
    "print(g.ford_fulkerson())\n",
    "\n",
    "\n"
   ]
  },
  {
   "cell_type": "code",
   "execution_count": null,
   "metadata": {},
   "outputs": [],
   "source": []
  }
 ],
 "metadata": {
  "kernelspec": {
   "display_name": "Python 3",
   "language": "python",
   "name": "python3"
  },
  "language_info": {
   "codemirror_mode": {
    "name": "ipython",
    "version": 3
   },
   "file_extension": ".py",
   "mimetype": "text/x-python",
   "name": "python",
   "nbconvert_exporter": "python",
   "pygments_lexer": "ipython3",
   "version": "3.6.5"
  }
 },
 "nbformat": 4,
 "nbformat_minor": 2
}
