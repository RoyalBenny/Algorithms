{
 "cells": [
  {
   "cell_type": "markdown",
   "metadata": {},
   "source": [
    "\n",
    "# Searching Algorithms"
   ]
  },
  {
   "cell_type": "markdown",
   "metadata": {},
   "source": [
    "## Binary search"
   ]
  },
  {
   "cell_type": "code",
   "execution_count": null,
   "metadata": {},
   "outputs": [],
   "source": [
    "\n",
    "#time complexity : O(log2(n))\n",
    "\n",
    "def binary_search(arr,left,right,search):\n",
    "    middle  = (left+right)//2\n",
    "    if (left<=right):\n",
    "        if arr[middle] == search:\n",
    "            return middle\n",
    "        elif arr[middle]<search:\n",
    "            return binary_search(arr,middle+1,right,search)\n",
    "        else:\n",
    "            return binary_search(arr,left,middle-1,search)\n",
    "    else:\n",
    "        return -1\n"
   ]
  },
  {
   "cell_type": "code",
   "execution_count": 44,
   "metadata": {},
   "outputs": [],
   "source": [
    "m = [1,2,3,4,5,8]"
   ]
  },
  {
   "cell_type": "code",
   "execution_count": 47,
   "metadata": {},
   "outputs": [
    {
     "data": {
      "text/plain": [
       "5"
      ]
     },
     "execution_count": 47,
     "metadata": {},
     "output_type": "execute_result"
    }
   ],
   "source": [
    "binary_search(m,0,len(m)-1,8)"
   ]
  },
  {
   "cell_type": "markdown",
   "metadata": {},
   "source": [
    "## Ternary search"
   ]
  },
  {
   "cell_type": "code",
   "execution_count": 48,
   "metadata": {},
   "outputs": [],
   "source": [
    "\n",
    "#time complexity : O(log3(n))\n",
    "\n",
    "def ternary_search(arr,left,right,search):\n",
    "    if left <= right:\n",
    "        midd_1 = left + (right-left)//3\n",
    "        midd_2 = right - (right - left)//3\n",
    "        \n",
    "        if arr[midd_1] == search:\n",
    "            return midd_1\n",
    "        if arr[midd_2] == search:\n",
    "            return midd_2\n",
    "        \n",
    "        if arr[midd_2]<search:\n",
    "            return ternary_search(arr,midd_2+1,right,search)\n",
    "        elif arr[midd_1]<search:\n",
    "            return ternary_search(arr,midd_1+1,midd_2-1,search)\n",
    "        else:\n",
    "            return ternary_search(arr,left,midd_1-1,search)\n",
    "    else:\n",
    "        return -1\n"
   ]
  },
  {
   "cell_type": "code",
   "execution_count": 49,
   "metadata": {},
   "outputs": [
    {
     "data": {
      "text/plain": [
       "0"
      ]
     },
     "execution_count": 49,
     "metadata": {},
     "output_type": "execute_result"
    }
   ],
   "source": [
    "ternary_search(m,0,len(m)-1,1)"
   ]
  },
  {
   "cell_type": "code",
   "execution_count": null,
   "metadata": {},
   "outputs": [],
   "source": []
  },
  {
   "cell_type": "code",
   "execution_count": null,
   "metadata": {},
   "outputs": [],
   "source": []
  }
 ],
 "metadata": {
  "kernelspec": {
   "display_name": "Python 3",
   "language": "python",
   "name": "python3"
  },
  "language_info": {
   "codemirror_mode": {
    "name": "ipython",
    "version": 3
   },
   "file_extension": ".py",
   "mimetype": "text/x-python",
   "name": "python",
   "nbconvert_exporter": "python",
   "pygments_lexer": "ipython3",
   "version": "3.6.5"
  }
 },
 "nbformat": 4,
 "nbformat_minor": 2
}
