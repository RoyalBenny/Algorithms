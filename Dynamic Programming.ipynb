{
 "cells": [
  {
   "cell_type": "markdown",
   "metadata": {},
   "source": [
    "## Knapsack 1/0"
   ]
  },
  {
   "cell_type": "code",
   "execution_count": 1,
   "metadata": {},
   "outputs": [
    {
     "name": "stdout",
     "output_type": "stream",
     "text": [
      "4 20\n",
      "10 2 1 3\n",
      "10 5 10 10\n",
      "13\n"
     ]
    }
   ],
   "source": [
    "def Knapsack(n, capacity, profits, weights):\n",
    "    max_profit = 0\n",
    "    total_profit = sum(profits)\n",
    "    dp_cur = [float('Inf')] * (total_profit + 1)\n",
    "    for i in range(n):\n",
    "        dp_prev = dp_cur\n",
    "        dp_cur = [float('Inf')] * (total_profit + 1)\n",
    "        for profit in range(1, total_profit + 1):\n",
    "            if profits[i] >= profit:\n",
    "                dp_cur[profit] = weights[i] if dp_prev[profit] > weights[i] else dp_prev[profit]\n",
    "            else:\n",
    "                dp_cur[profit] = dp_prev[profit - profits[i]] + weights[i] if dp_prev[profit - profits[i]] + weights[i] < dp_prev[\n",
    "                    profit] else dp_prev[profit]\n",
    "            if dp_cur[profit] <= capacity and profit > max_profit:\n",
    "                max_profit = profit\n",
    "            if dp_cur[profit] > capacity:\n",
    "                break\n",
    "    return max_profit\n",
    "\n",
    "if __name__ == '__main__':\n",
    "    N, C = input().split()\n",
    "    profits = list(map(int,input().split()))\n",
    "    weights = list(map(int,input().split()))\n",
    "    print(Knapsack(int(N), int(C), profits, weights))"
   ]
  },
  {
   "cell_type": "markdown",
   "metadata": {},
   "source": [
    "## Coin Sum - Infinite coins"
   ]
  },
  {
   "cell_type": "code",
   "execution_count": 1,
   "metadata": {},
   "outputs": [
    {
     "name": "stdout",
     "output_type": "stream",
     "text": [
      "4 3\n",
      "1 2 3\n",
      "4\n"
     ]
    }
   ],
   "source": [
    "#number of possible cases by which the amount can achive\n",
    "\n",
    "def coin_change(coins,size,max_number):\n",
    "    table=[0 for k in range(max_number+1)]\n",
    "    table[0]=1\n",
    "    for i in range(0,size):\n",
    "        for j in range(coins[i],max_number+1):\n",
    "            table[j]+=table[j-coins[i]]\n",
    "    return table[max_number]\n",
    "\n",
    "if __name__ == '__main__':\n",
    "    C,N= [int(i) for i in input().split()]\n",
    "    coins = [int(i) for i in input().split()]\n",
    "    print(coin_change(coins,N,C))"
   ]
  },
  {
   "cell_type": "markdown",
   "metadata": {},
   "source": [
    "## Coin Sum - finite coins"
   ]
  },
  {
   "cell_type": "code",
   "execution_count": 2,
   "metadata": {},
   "outputs": [
    {
     "name": "stdout",
     "output_type": "stream",
     "text": [
      "2\n",
      "15\n",
      "2 3 1 1\n",
      "2\n",
      "12\n",
      "2 2 1 1\n",
      "2\n"
     ]
    }
   ],
   "source": [
    "def coin_sum(K,C):\n",
    "    dp = [[0 for i in range(K)] for j in range(5)]\n",
    "    dp[0][0] = 1\n",
    "    for i in range(1,5):\n",
    "        for j in range(K):\n",
    "            rem = min(C[i-1],j//A[i-1])\n",
    "            for k in range(rem+1):\n",
    "                dp[i][j]+=dp[i-1][j-A[i-1]*k]\n",
    "        \n",
    "    print(dp[4][K-1])\n",
    "\n",
    "\n",
    "\n",
    "T = int(input())\n",
    "A = [1,2,5,10]\n",
    "\n",
    "for t in range(T):\n",
    "    K = int(input())+1\n",
    "    C = [int(i) for i in input().split()]\n",
    "    coin_sum(K,C)\n",
    "            \n"
   ]
  },
  {
   "cell_type": "markdown",
   "metadata": {},
   "source": [
    "## Subset Sum - Return whether subset exists or not"
   ]
  },
  {
   "cell_type": "code",
   "execution_count": 4,
   "metadata": {},
   "outputs": [
    {
     "data": {
      "text/plain": [
       "True"
      ]
     },
     "execution_count": 4,
     "metadata": {},
     "output_type": "execute_result"
    }
   ],
   "source": [
    "def subset_sum(data_set,total_sum):\n",
    "    size=len(data_set)\n",
    "    subset=[[False for i in range(total_sum+1)]for j in range(size+1)]\n",
    "    data_set.sort()\n",
    "    for i in range(size+1):\n",
    "        subset[i][0]=True\n",
    "        \n",
    "    for i in range(1,total_sum+1):\n",
    "        subset[0][i]=False\n",
    "        \n",
    "    for i in range(1,size+1):\n",
    "        for j in range(1,total_sum+1):\n",
    "            if j<data_set[i-1]:\n",
    "                subset[i][j]=subset[i-1][j]\n",
    "            if j>=data_set[i-1]:\n",
    "                subset[i][j]=(subset[i-1][j] or subset[i-1][j-data_set[i-1]])\n",
    "    \n",
    "    return subset[size][total_sum]\n",
    "\n",
    "\n",
    "subset_sum([3, 34, 4, 12, 5, 2],9)"
   ]
  },
  {
   "cell_type": "markdown",
   "metadata": {},
   "source": [
    "## Subset Sum - Return the possible sets"
   ]
  },
  {
   "cell_type": "code",
   "execution_count": 5,
   "metadata": {},
   "outputs": [
    {
     "name": "stdout",
     "output_type": "stream",
     "text": [
      "5\n",
      "1 1 2 3 4\n",
      "4\n",
      "4 \n",
      "1 3 \n",
      "1 3 \n",
      "1 1 2 \n"
     ]
    }
   ],
   "source": [
    "def sumSubsets(sets, n, target) : \n",
    "    x = [0]*len(sets) \n",
    "    j = len(sets) - 1 \n",
    "  \n",
    "    while (n > 0) : \n",
    "      \n",
    "        x[j] = n % 2  \n",
    "        n = n // 2 \n",
    "        j -= 1 \n",
    "      \n",
    "    sum = 0 \n",
    "  \n",
    "    for i in range(len(sets)) : \n",
    "        if (x[i] == 1) : \n",
    "            sum += sets[i]  \n",
    "  \n",
    "    if (sum == target) : \n",
    "  \n",
    "        for i in range(len(sets)) : \n",
    "            if (x[i] == 1) : \n",
    "                print(sets[i],end= \" \")\n",
    "        print()\n",
    "def findSubsets(arr, K) : \n",
    "    x = pow(2, len(arr)) \n",
    "  \n",
    "    for i in range(1, x) : \n",
    "        sumSubsets(arr, i, K);  \n",
    "        \n",
    "if __name__ == \"__main__\" :  \n",
    "    N=int(input())\n",
    "    arr = list(map(int,input().split()))  \n",
    "    K = int(input());  \n",
    "    findSubsets(arr, K); \n"
   ]
  },
  {
   "cell_type": "code",
   "execution_count": null,
   "metadata": {},
   "outputs": [],
   "source": []
  }
 ],
 "metadata": {
  "kernelspec": {
   "display_name": "Python 3",
   "language": "python",
   "name": "python3"
  },
  "language_info": {
   "codemirror_mode": {
    "name": "ipython",
    "version": 3
   },
   "file_extension": ".py",
   "mimetype": "text/x-python",
   "name": "python",
   "nbconvert_exporter": "python",
   "pygments_lexer": "ipython3",
   "version": "3.6.5"
  }
 },
 "nbformat": 4,
 "nbformat_minor": 2
}
