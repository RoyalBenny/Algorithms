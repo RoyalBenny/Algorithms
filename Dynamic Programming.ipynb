{
 "cells": [
  {
   "cell_type": "markdown",
   "metadata": {},
   "source": [
    "## Knapsack 1/0"
   ]
  },
  {
   "cell_type": "code",
   "execution_count": 1,
   "metadata": {},
   "outputs": [
    {
     "name": "stdout",
     "output_type": "stream",
     "text": [
      "4 20\n",
      "10 2 1 3\n",
      "10 5 10 10\n",
      "13\n"
     ]
    }
   ],
   "source": [
    "def Knapsack(n, capacity, profits, weights):\n",
    "    max_profit = 0\n",
    "    total_profit = sum(profits)\n",
    "    dp_cur = [float('Inf')] * (total_profit + 1)\n",
    "    for i in range(n):\n",
    "        dp_prev = dp_cur\n",
    "        dp_cur = [float('Inf')] * (total_profit + 1)\n",
    "        for profit in range(1, total_profit + 1):\n",
    "            if profits[i] >= profit:\n",
    "                dp_cur[profit] = weights[i] if dp_prev[profit] > weights[i] else dp_prev[profit]\n",
    "            else:\n",
    "                dp_cur[profit] = dp_prev[profit - profits[i]] + weights[i] if dp_prev[profit - profits[i]] + weights[i] < dp_prev[\n",
    "                    profit] else dp_prev[profit]\n",
    "            if dp_cur[profit] <= capacity and profit > max_profit:\n",
    "                max_profit = profit\n",
    "            if dp_cur[profit] > capacity:\n",
    "                break\n",
    "    return max_profit\n",
    "\n",
    "if __name__ == '__main__':\n",
    "    N, C = input().split()\n",
    "    profits = list(map(int,input().split()))\n",
    "    weights = list(map(int,input().split()))\n",
    "    print(Knapsack(int(N), int(C), profits, weights))"
   ]
  },
  {
   "cell_type": "code",
   "execution_count": null,
   "metadata": {},
   "outputs": [],
   "source": []
  }
 ],
 "metadata": {
  "kernelspec": {
   "display_name": "Python 3",
   "language": "python",
   "name": "python3"
  },
  "language_info": {
   "codemirror_mode": {
    "name": "ipython",
    "version": 3
   },
   "file_extension": ".py",
   "mimetype": "text/x-python",
   "name": "python",
   "nbconvert_exporter": "python",
   "pygments_lexer": "ipython3",
   "version": "3.6.5"
  }
 },
 "nbformat": 4,
 "nbformat_minor": 2
}
